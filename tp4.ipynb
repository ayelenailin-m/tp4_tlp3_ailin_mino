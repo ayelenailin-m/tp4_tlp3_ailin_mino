{
 "cells": [
  {
   "cell_type": "markdown",
   "id": "3e4771e8",
   "metadata": {},
   "source": [
    "# Trabajo Practico n4 - Introduccion a numpy.\n",
    "## Criterios de evaluación.\n",
    "\n",
    "* Se deben utilizar nombres de variables descriptivos y claros (Utilizar la nomeclatura correspondiente para los nombres de variables).\n",
    "* Comentarios claros y concisos que expliquen el propósito de cada sección del código.\n",
    "* Utilizar mensajes de commit **descriptivos**. (Puedes utilizar la extension CONVENTIONAL COMMIT de VS-CODE). \n",
    "* Entrega en tiempo y forma.\n",
    "* Todo el código desarrollado debe ser subido a un repositorio en GitHub (el nombre del repositorio de seguir la siguiente estructura: tp4_tlp3_nombre_apellido).\n",
    "* Para resolver las actividades se debe insertar casillas de codigo entre cada actividad del cuaderno de Jupyter\n",
    "\n",
    "### ¡Importante!\n",
    "**El incumplimiento de los criterios de evaluación restará puntos en la nota final del práctico!**"
   ]
  },
  {
   "cell_type": "code",
   "execution_count": null,
   "id": "8db8dbbd",
   "metadata": {},
   "outputs": [
    {
     "name": "stdout",
     "output_type": "stream",
     "text": [
      "Collecting numpy\n",
      "  Downloading numpy-2.2.5-cp312-cp312-win_amd64.whl.metadata (60 kB)\n",
      "Downloading numpy-2.2.5-cp312-cp312-win_amd64.whl (12.6 MB)\n",
      "   ---------------------------------------- 0.0/12.6 MB ? eta -:--:--\n",
      "   -- ------------------------------------- 0.8/12.6 MB 4.8 MB/s eta 0:00:03\n",
      "   ------ --------------------------------- 2.1/12.6 MB 5.3 MB/s eta 0:00:02\n",
      "   --------- ------------------------------ 3.1/12.6 MB 5.6 MB/s eta 0:00:02\n",
      "   -------------- ------------------------- 4.5/12.6 MB 5.7 MB/s eta 0:00:02\n",
      "   ----------------- ---------------------- 5.5/12.6 MB 5.6 MB/s eta 0:00:02\n",
      "   -------------------- ------------------- 6.6/12.6 MB 5.3 MB/s eta 0:00:02\n",
      "   ----------------------- ---------------- 7.3/12.6 MB 5.1 MB/s eta 0:00:02\n",
      "   ------------------------- -------------- 8.1/12.6 MB 5.1 MB/s eta 0:00:01\n",
      "   --------------------------- ------------ 8.7/12.6 MB 4.8 MB/s eta 0:00:01\n",
      "   ------------------------------ --------- 9.7/12.6 MB 4.8 MB/s eta 0:00:01\n",
      "   ---------------------------------- ----- 11.0/12.6 MB 4.9 MB/s eta 0:00:01\n",
      "   -------------------------------------- - 12.1/12.6 MB 4.9 MB/s eta 0:00:01\n",
      "   ---------------------------------------- 12.6/12.6 MB 4.9 MB/s eta 0:00:00\n",
      "Installing collected packages: numpy\n",
      "Successfully installed numpy-2.2.5\n"
     ]
    },
    {
     "name": "stderr",
     "output_type": "stream",
     "text": [
      "\n",
      "[notice] A new release of pip is available: 24.3.1 -> 25.0.1\n",
      "[notice] To update, run: python.exe -m pip install --upgrade pip\n"
     ]
    }
   ],
   "source": [
    "!pip install numpy\n",
    "## \"!\"\" permite correr comandos del sistema directamente desde una celda de Jupyter.\n"
   ]
  },
  {
   "cell_type": "markdown",
   "id": "6f3340d9",
   "metadata": {},
   "source": [
    "**Importaciones:**"
   ]
  },
  {
   "cell_type": "code",
   "execution_count": 3,
   "id": "783ab170",
   "metadata": {},
   "outputs": [],
   "source": [
    "import numpy as np\n",
    "from random import randint"
   ]
  },
  {
   "cell_type": "markdown",
   "id": "c5ba7292",
   "metadata": {},
   "source": [
    "**Actividad 1:**: Crea un array de NumPy que contenga los números del 0 al 9. (Debes utilizar un metodo de numpy para su creacion.)"
   ]
  },
  {
   "cell_type": "code",
   "execution_count": null,
   "id": "75029034",
   "metadata": {},
   "outputs": [
    {
     "name": "stdout",
     "output_type": "stream",
     "text": [
      "[0 1 2 3 4 5 6 7 8 9]\n"
     ]
    }
   ],
   "source": [
    "#todo: \n",
    "# uso arange de NumPy que genera numeros enteros consecutivos\n",
    "array_numeros = np.arange(10)\n",
    "\n",
    "# mostrar\n",
    "print(array_numeros)"
   ]
  },
  {
   "cell_type": "markdown",
   "id": "cb894927",
   "metadata": {},
   "source": [
    "**Actividad 2:** Crea un array de 5 ceros, y luego cambia el tercer elemento (índice 2) para que sea 5. (Debes utilizar un metodo de numpy para su creacion.)"
   ]
  },
  {
   "cell_type": "code",
   "execution_count": 9,
   "id": "b9cd04a0",
   "metadata": {},
   "outputs": [
    {
     "name": "stdout",
     "output_type": "stream",
     "text": [
      "[0 0 0 0 0]\n",
      "[0 0 5 0 0]\n"
     ]
    }
   ],
   "source": [
    "#todo:\n",
    "array_ceros = np.zeros(5, dtype=int) #dtype=int asegura que los valores sean enteros\n",
    "print(array_ceros)\n",
    "\n",
    "# modificar el array\n",
    "array_ceros[2] = 5\n",
    "\n",
    "print(array_ceros)\n",
    "\n"
   ]
  },
  {
   "cell_type": "markdown",
   "id": "000352a3",
   "metadata": {},
   "source": [
    "**Actividad 3:** Genera una matriz 3x3 de números aleatorios entre 0 y 1."
   ]
  },
  {
   "cell_type": "code",
   "execution_count": 11,
   "id": "e74354c9",
   "metadata": {},
   "outputs": [
    {
     "name": "stdout",
     "output_type": "stream",
     "text": [
      "[[0.17043161 0.26266863 0.17316951]\n",
      " [0.26554592 0.48573985 0.98899247]\n",
      " [0.51948146 0.45932852 0.91447194]]\n"
     ]
    }
   ],
   "source": [
    "#todo: \n",
    "# función random.rand para generar la matriz entre 0 y 1\n",
    "matriz_aleatoria = np.random.rand(3,3) \n",
    "\n",
    "# mostramos la matriz\n",
    "print(matriz_aleatoria)"
   ]
  },
  {
   "cell_type": "markdown",
   "id": "6611aaf8",
   "metadata": {},
   "source": [
    "**Actividad 4:** Dado el siguiente array `arr = np.array([10, 20, 30, 40, 50])`\n",
    "1. Suma 5 a cada elemento.\n",
    "2. Multiplica todo por un numero aleatorio (utiliza el modulo random para generarlo.)"
   ]
  },
  {
   "cell_type": "code",
   "execution_count": null,
   "id": "ed416e11",
   "metadata": {},
   "outputs": [
    {
     "name": "stdout",
     "output_type": "stream",
     "text": [
      "array original: [10 20 30 40 50]\n",
      "array sumado: [15 25 35 45 55]\n",
      "numero aleatorio: 2\n",
      "array multiplicado: [ 20  40  60  80 100]\n",
      "array final: [ 30  50  70  90 110]\n"
     ]
    }
   ],
   "source": [
    "#todo:\n",
    "\n",
    "arr = np.array([10, 20, 30, 40, 50])\n",
    "print(f\"array original: {arr}\")\n",
    "\n",
    "# sumamos 5 a cada elemento del array original\n",
    "arr_sumado = arr + 5\n",
    "print(f\"array sumado: {arr_sumado}\")\n",
    "\n",
    "# creamos un numero aleatorio con randint\n",
    "numero_aleatorio = randint(1, 10)\n",
    "print(f\"numero aleatorio: {numero_aleatorio}\")\n",
    "\n",
    "# multiplicamos cada elemento del array original por el numero aleatorio\n",
    "arr_multiplicado = arr * numero_aleatorio\n",
    "print(f\"array multiplicado: {arr_multiplicado}\")\n",
    "\n",
    "# multiplicamos el array sumado por el numero aleatorio\n",
    "array_final = arr_sumado * numero_aleatorio\n",
    "print(f\"array final: {array_final}\")\n",
    "\n"
   ]
  },
  {
   "cell_type": "markdown",
   "id": "fbd05c4d",
   "metadata": {},
   "source": [
    "**Actividad 5:** Crea una matriz identidad de tamaño 4x4 (unos en la diagonal principal y ceros en el resto)."
   ]
  },
  {
   "cell_type": "code",
   "execution_count": 25,
   "id": "6811c19f",
   "metadata": {},
   "outputs": [
    {
     "name": "stdout",
     "output_type": "stream",
     "text": [
      "[[1. 0. 0. 0.]\n",
      " [0. 1. 0. 0.]\n",
      " [0. 0. 1. 0.]\n",
      " [0. 0. 0. 1.]]\n"
     ]
    }
   ],
   "source": [
    "#todo:\n",
    "\n",
    "# uso la funcion identity de Numpy\n",
    "matriz_identidad = np.identity(4)\n",
    "\n",
    "print(matriz_identidad)"
   ]
  },
  {
   "cell_type": "markdown",
   "id": "3ec18459",
   "metadata": {},
   "source": [
    "**Actividad 6:** Crea un array que comience en 0 hasta el 20, pero que solo tenga numeros pares yu luego realiza las 4 operaciones basicas. (suma, resta, multiplicacion, division)."
   ]
  },
  {
   "cell_type": "code",
   "execution_count": 29,
   "id": "f0c02872",
   "metadata": {},
   "outputs": [
    {
     "name": "stdout",
     "output_type": "stream",
     "text": [
      "array de numeros pares: [ 0  2  4  6  8 10 12 14 16 18 20]\n",
      "numero para las operaciones: 4\n",
      "suma: [ 4  6  8 10 12 14 16 18 20 22 24]\n",
      "resta: [-4 -2  0  2  4  6  8 10 12 14 16]\n",
      "multiplicación: [ 0  8 16 24 32 40 48 56 64 72 80]\n",
      "división: [0.  0.5 1.  1.5 2.  2.5 3.  3.5 4.  4.5 5. ]\n"
     ]
    }
   ],
   "source": [
    "#todo: \n",
    "\n",
    "# arange para los numeros pares\n",
    "array_pares = np.arange(0, 21, 2)\n",
    "\n",
    "print(f\"array de numeros pares: {array_pares}\")\n",
    "\n",
    "# definir un numero para hacer las operaciones, en este caso 4\n",
    "numero_operacion = 4\n",
    "print(f\"numero para las operaciones: {numero_operacion}\")\n",
    "\n",
    "# hacer las operaciones\n",
    "suma = array_pares + numero_operacion\n",
    "resta = array_pares - numero_operacion\n",
    "multiplicacion = array_pares * numero_operacion\n",
    "division = array_pares / numero_operacion\n",
    "\n",
    "# mstrar los resultados\n",
    "print(\"suma:\", suma)\n",
    "print(\"resta:\", resta)\n",
    "print(\"multiplicación:\", multiplicacion)\n",
    "print(\"división:\", division)\n"
   ]
  }
 ],
 "metadata": {
  "kernelspec": {
   "display_name": "Python 3",
   "language": "python",
   "name": "python3"
  },
  "language_info": {
   "codemirror_mode": {
    "name": "ipython",
    "version": 3
   },
   "file_extension": ".py",
   "mimetype": "text/x-python",
   "name": "python",
   "nbconvert_exporter": "python",
   "pygments_lexer": "ipython3",
   "version": "3.12.9"
  }
 },
 "nbformat": 4,
 "nbformat_minor": 5
}
